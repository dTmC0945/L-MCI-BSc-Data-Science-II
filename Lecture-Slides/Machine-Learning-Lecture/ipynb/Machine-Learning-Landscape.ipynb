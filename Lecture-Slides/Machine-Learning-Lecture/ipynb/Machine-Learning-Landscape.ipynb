{
 "cells": [
  {
   "cell_type": "markdown",
   "id": "c7ce4ad6-bcc7-4827-af4d-86d937708a4d",
   "metadata": {},
   "source": [
    "Code for Machine Learning and Data Science II\n",
    "=============================================\n",
    "\n"
   ]
  },
  {
   "cell_type": "markdown",
   "id": "aa3caf7b-d4bc-44da-94e7-6921357fbde2",
   "metadata": {},
   "source": [
    "These are the code snippets used in Machine Learning Landscape\n",
    "part of Machine Learning and Data Science II.\n",
    "\n"
   ]
  },
  {
   "cell_type": "markdown",
   "id": "5affe300-0f67-4c41-935b-0e80cff05cd5",
   "metadata": {},
   "source": [
    "### Introduction\n",
    "\n"
   ]
  },
  {
   "cell_type": "markdown",
   "id": "bbcb0916-2d99-4b63-9237-470d89e92d96",
   "metadata": {},
   "source": [
    "The following code uses the standard matplotlib along with the\n",
    "custom ChalcedonPy which is detailed in its source code here.\n",
    "\n",
    "The code is used primarily in the following code as a means to\n",
    "save figures for use in slides.\n",
    "\n"
   ]
  },
  {
   "cell_type": "code",
   "execution_count": 1,
   "id": "92780a05-c132-430d-965b-3e2aab5ca292",
   "metadata": {},
   "outputs": [],
   "source": [
    "import matplotlib.pyplot as plt\n",
    "import ChalcedonPy as cp\n",
    "\n",
    "# Initialise ChalcedonPy\n",
    "cp.init(save_path=\"Machine-Learning-Landscape\",\n",
    "        display_mode=\"slide\")"
   ]
  },
  {
   "cell_type": "markdown",
   "id": "8f9e1962-f0a6-48ce-bad6-eb359d5d3c83",
   "metadata": {},
   "source": [
    "### Download the Data\n",
    "\n"
   ]
  },
  {
   "cell_type": "markdown",
   "id": "94c92d9f-7dab-42f3-9674-1a3f25eb7435",
   "metadata": {},
   "source": [
    "To analyse the data of life satisfaction to GDP per capita,\n",
    "lets download the data.\n",
    "\n"
   ]
  },
  {
   "cell_type": "code",
   "execution_count": 1,
   "id": "4d7f1a56-d4bf-4c5a-8cdc-ca50f423e7d8",
   "metadata": {},
   "outputs": [],
   "source": [
    "from pathlib import Path\n",
    "import urllib.request\n",
    "\n",
    "# Set the datapath\n",
    "datapath = Path() / \"datasets\" / \"lifesat\"\n",
    "datapath.mkdir(parents=True, exist_ok=True)\n",
    "\n",
    "# Download the data and save it\n",
    "data_root = \"https://github.com/ageron/data/raw/main/\"\n",
    "for filename in (\"oecd_bli.csv\", \"gdp_per_capita.csv\"):\n",
    "    if not (datapath / filename).is_file():\n",
    "        print(\"Downloading\", filename)\n",
    "        url = data_root + \"lifesat/\" + filename\n",
    "        urllib.request.urlretrieve(url, datapath / filename)"
   ]
  },
  {
   "cell_type": "markdown",
   "id": "f4aa6e3c-b13a-4fa9-9aea-1615a0a1e36f",
   "metadata": {},
   "source": [
    "Read the csv files using pd.read<sub>csv</sub>() and\n",
    "save them to the variables.\n",
    "\n"
   ]
  },
  {
   "cell_type": "code",
   "execution_count": 1,
   "id": "1a16f9bc-d0f0-48cd-a544-b069dc5c7d60",
   "metadata": {},
   "outputs": [],
   "source": [
    "oecd_bli = pd.read_csv(datapath / \"oecd_bli.csv\")\n",
    "gdp_per_capita = pd.read_csv(datapath / \"gdp_per_capita.csv\")"
   ]
  },
  {
   "cell_type": "markdown",
   "id": "d77a8ae2-f11e-44ab-934b-0598893d1b62",
   "metadata": {},
   "source": [
    "### Work on the Data\n",
    "\n"
   ]
  },
  {
   "cell_type": "markdown",
   "id": "cd0011d5-9409-47a7-beb8-6177b017ed2f",
   "metadata": {},
   "source": [
    "Only keep the data with the matching year 2020.\n",
    "\n"
   ]
  },
  {
   "cell_type": "code",
   "execution_count": 1,
   "id": "f4e54850-4a4d-4a74-aa6e-f8c9eaf396d7",
   "metadata": {},
   "outputs": [],
   "source": [
    "gdp_year = 2020\n",
    "gdppc_col = \"GDP per capita (USD)\"\n",
    "lifesat_col = \"Life satisfaction\"\n",
    "\n",
    "gdp_per_capita = gdp_per_capita[gdp_per_capita[\"Year\"] == gdp_year]\n",
    "gdp_per_capita = gdp_per_capita.drop([\"Code\", \"Year\"], axis=1)\n",
    "gdp_per_capita.columns = [\"Country\", gdppc_col]\n",
    "gdp_per_capita.set_index(\"Country\", inplace=True)\n",
    "\n",
    "gdp_per_capita.head()"
   ]
  },
  {
   "cell_type": "markdown",
   "id": "1ca3cf11-6002-489f-a5d0-a9d2012389a8",
   "metadata": {},
   "source": [
    "Process the second csv file and only keep the Life satisfaction column.\n",
    "\n"
   ]
  },
  {
   "cell_type": "code",
   "execution_count": 1,
   "id": "3d147e1b-6dc9-4e92-b8ca-969683fd2a8b",
   "metadata": {},
   "outputs": [],
   "source": [
    "oecd_bli = oecd_bli[oecd_bli[\"INEQUALITY\"]==\"TOT\"]\n",
    "oecd_bli = oecd_bli.pivot(index=\"Country\", columns=\"Indicator\", values=\"Value\")\n",
    "\n",
    "oecd_bli.head()"
   ]
  },
  {
   "cell_type": "markdown",
   "id": "44d6f285-3985-416d-9c88-144df22e57ee",
   "metadata": {},
   "source": [
    "Merge the life satisfaction data and the GDP per capita data,\n",
    "keeping only the GDP per capita and Life satisfaction columns:\n",
    "\n"
   ]
  },
  {
   "cell_type": "code",
   "execution_count": 1,
   "id": "f4e6903f-b4ea-4c21-b803-ed78a4bb24d8",
   "metadata": {},
   "outputs": [],
   "source": [
    "full_country_stats = pd.merge(left=oecd_bli, right=gdp_per_capita,\n",
    "                              left_index=True, right_index=True)\n",
    "full_country_stats.sort_values(by=gdppc_col, inplace=True)\n",
    "full_country_stats = full_country_stats[[gdppc_col, lifesat_col]]\n",
    "\n",
    "full_country_stats.head()"
   ]
  },
  {
   "cell_type": "markdown",
   "id": "aaa25c9b-cd0b-4398-900d-6896fb2c3903",
   "metadata": {},
   "source": [
    "To showcase overfitting lets remove some data and only keep\n",
    "a certain range\n",
    "\n"
   ]
  },
  {
   "cell_type": "code",
   "execution_count": 1,
   "id": "3c31c21d-8d24-489b-a760-b73d9848ec0c",
   "metadata": {},
   "outputs": [],
   "source": [
    "min_gdp = 23_500\n",
    "max_gdp = 62_500\n",
    "\n",
    "country_stats = full_country_stats[(full_country_stats[gdppc_col] >= min_gdp) &\n",
    "                                   (full_country_stats[gdppc_col] <= max_gdp)]\n",
    "country_stats.head()"
   ]
  },
  {
   "cell_type": "markdown",
   "id": "ec74d0e8-5209-4f9e-81ff-749c4d1273d2",
   "metadata": {},
   "source": [
    "Save these files to csv for working later.\n",
    "\n"
   ]
  },
  {
   "cell_type": "code",
   "execution_count": 1,
   "id": "31900a3d-e8f0-4910-b37e-7fcee1953203",
   "metadata": {},
   "outputs": [],
   "source": [
    "country_stats.to_csv(datapath / \"lifesat.csv\")\n",
    "full_country_stats.to_csv(datapath / \"lifesat_full.csv\")"
   ]
  },
  {
   "cell_type": "markdown",
   "id": "687dc21c-d801-4908-9f77-9d2ad7985c65",
   "metadata": {},
   "source": [
    "Plot these values as scatter plot.\n",
    "\n"
   ]
  },
  {
   "cell_type": "code",
   "execution_count": 1,
   "id": "714c2b1e-099f-48e8-a50f-4575439943b5",
   "metadata": {},
   "outputs": [],
   "source": [
    "country_stats.plot(kind='scatter', figsize=(5, 3), grid=True,\n",
    "                   x=gdppc_col, y=lifesat_col)\n",
    "\n",
    "min_life_sat = 4\n",
    "max_life_sat = 9\n",
    "\n",
    "position_text = {\n",
    "    \"Turkey\": (29_500, 4.2),\n",
    "    \"Hungary\": (28_000, 6.9),\n",
    "    \"France\": (40_000, 5),\n",
    "    \"New Zealand\": (28_000, 8.2),\n",
    "    \"Australia\": (50_000, 5.5),\n",
    "    \"United States\": (59_000, 5.3),\n",
    "    \"Denmark\": (46_000, 8.5)\n",
    "}\n",
    "\n",
    "for country, pos_text in position_text.items():\n",
    "    pos_data_x = country_stats[gdppc_col].loc[country]\n",
    "    pos_data_y = country_stats[lifesat_col].loc[country]\n",
    "    country = \"U.S.\" if country == \"United States\" else country\n",
    "    plt.annotate(country, xy=(pos_data_x, pos_data_y),\n",
    "                 xytext=pos_text, fontsize=12,\n",
    "                 arrowprops=dict(facecolor='black', width=0.5,\n",
    "                                 shrink=0.08, headwidth=5))\n",
    "    plt.plot(pos_data_x, pos_data_y, \"o\")\n",
    "\n",
    "plt.axis([min_gdp, max_gdp, min_life_sat, max_life_sat])\n",
    "\n",
    "plt.show()"
   ]
  },
  {
   "cell_type": "markdown",
   "id": "02fcaf62-9e53-46af-afe2-c6e0f3c55fe2",
   "metadata": {},
   "source": [
    "Lets looks at the points we highlighted and see their GDP and\n",
    "life satisfaction.\n",
    "\n"
   ]
  },
  {
   "cell_type": "code",
   "execution_count": 1,
   "id": "81733310-1f57-4a61-848d-b0f0ce6fb9fc",
   "metadata": {},
   "outputs": [],
   "source": [
    "highlighted_countries = country_stats.loc[list(position_text.keys())]\n",
    "highlighted_countries[[gdppc_col, lifesat_col]].sort_values(by=gdppc_col)"
   ]
  },
  {
   "cell_type": "markdown",
   "id": "7878ccce-da89-4e18-899e-55384953f3d6",
   "metadata": {},
   "source": [
    "### Fit the Model\n",
    "\n"
   ]
  },
  {
   "cell_type": "markdown",
   "id": "57d3d1b2-d5bf-4069-9dee-a345c9eb8771",
   "metadata": {},
   "source": [
    "Time to try to fit linear models to our limited data.\n",
    "\n"
   ]
  },
  {
   "cell_type": "code",
   "execution_count": 1,
   "id": "40124cae-6d88-4838-a449-1d7463185b94",
   "metadata": {},
   "outputs": [],
   "source": [
    "country_stats.plot(kind='scatter', figsize=(5, 3), grid=True,\n",
    "                   x=gdppc_col, y=lifesat_col)\n",
    "\n",
    "X = np.linspace(min_gdp, max_gdp, 1000)\n",
    "\n",
    "w1, w2 = 4.2, 0\n",
    "plt.plot(X, w1 + w2 * 1e-5 * X)\n",
    "plt.text(40_000, 4.9, fr\"$\\theta_0 = {w1}$\")\n",
    "plt.text(40_000, 4.4, fr\"$\\theta_1 = {w2}$\")\n",
    "\n",
    "w1, w2 = 10, -9\n",
    "plt.plot(X, w1 + w2 * 1e-5 * X)\n",
    "plt.text(26_000, 8.5, fr\"$\\theta_0 = {w1}$\")\n",
    "plt.text(26_000, 8.0, fr\"$\\theta_1 = {w2} \\times 10^{{-5}}$\")\n",
    "\n",
    "w1, w2 = 3, 8\n",
    "plt.plot(X, w1 + w2 * 1e-5 * X)\n",
    "plt.text(48_000, 8.5, fr\"$\\theta_0 = {w1}$\")\n",
    "plt.text(48_000, 8.0, fr\"$\\theta_1 = {w2} \\times 10^{{-5}}$\")\n",
    "\n",
    "plt.axis([min_gdp, max_gdp, min_life_sat, max_life_sat])\n",
    "\n",
    "plt.show()"
   ]
  },
  {
   "cell_type": "markdown",
   "id": "4473d862-a21e-4cd4-856d-28e58a7fd10e",
   "metadata": {},
   "source": [
    "Now, generate our model, get the best $\\theta_0$ and $\\theta_0$ and\n",
    "plot the best fit.\n",
    "\n"
   ]
  },
  {
   "cell_type": "code",
   "execution_count": 1,
   "id": "7148de04-fba5-4cb3-91fc-35d0f8c89127",
   "metadata": {},
   "outputs": [],
   "source": [
    "from sklearn import linear_model\n",
    "\n",
    "X_sample = country_stats[[gdppc_col]].values\n",
    "y_sample = country_stats[[lifesat_col]].values\n",
    "\n",
    "lin1 = linear_model.LinearRegression()\n",
    "lin1.fit(X_sample, y_sample)\n",
    "\n",
    "t0, t1 = lin1.intercept_[0], lin1.coef_[0][0]\n",
    "\n",
    "country_stats.plot(kind='scatter', figsize=(5, 3), grid=True,\n",
    "                   x=gdppc_col, y=lifesat_col)\n",
    "\n",
    "X = np.linspace(min_gdp, max_gdp, 1000)\n",
    "plt.plot(X, t0 + t1 * X)\n",
    "\n",
    "plt.text(max_gdp - 20_000, min_life_sat + 1.9,\n",
    "         fr\"$\\theta_0 = {t0:.2f}$\")\n",
    "plt.text(max_gdp - 20_000, min_life_sat + 1.3,\n",
    "         fr\"$\\theta_1 = {t1 * 1e5:.2f} \\times 10^{{-5}}$\")\n",
    "\n",
    "plt.axis([min_gdp, max_gdp, min_life_sat, max_life_sat])\n",
    "\n",
    "plt.show()"
   ]
  },
  {
   "cell_type": "markdown",
   "id": "2d0b2510-8610-4dc6-9b3c-4333d71825f9",
   "metadata": {},
   "source": [
    "Let's do a prediction with the Cyprus data.\n",
    "\n"
   ]
  },
  {
   "cell_type": "code",
   "execution_count": 1,
   "id": "11847bde-14d9-4eaf-8412-662e41c69096",
   "metadata": {},
   "outputs": [],
   "source": [
    "cyprus_gdp_per_capita = gdp_per_capita[gdppc_col].loc[\"Cyprus\"]\n",
    "cyprus_predicted_life_satisfaction = lin1.predict([[cyprus_gdp_per_capita]])[0, 0]\n",
    "\n",
    "country_stats.plot(kind='scatter', figsize=(5, 3), grid=True,\n",
    "                   x=gdppc_col, y=lifesat_col)\n",
    "\n",
    "X = np.linspace(min_gdp, max_gdp, 1000)\n",
    "plt.plot(X, t0 + t1 * X)\n",
    "\n",
    "plt.text(min_gdp + 22_000, max_life_sat - 1.1,\n",
    "         fr\"$\\theta_0 = {t0:.2f}$\")\n",
    "plt.text(min_gdp + 22_000, max_life_sat - 0.6,\n",
    "         fr\"$\\theta_1 = {t1 * 1e5:.2f} \\times 10^{{-5}}$\")\n",
    "\n",
    "plt.plot([cyprus_gdp_per_capita, cyprus_gdp_per_capita],\n",
    "         [min_life_sat, cyprus_predicted_life_satisfaction], \"--\")\n",
    "plt.text(cyprus_gdp_per_capita + 1000, 5.0,\n",
    "         fr\"Prediction = {cyprus_predicted_life_satisfaction:.2f}\")\n",
    "plt.plot(cyprus_gdp_per_capita, cyprus_predicted_life_satisfaction, \"o\")\n",
    "\n",
    "plt.axis([min_gdp, max_gdp, min_life_sat, max_life_sat])\n",
    "plt.show()"
   ]
  },
  {
   "cell_type": "markdown",
   "id": "41748f95-d63f-4fa9-a513-bb7505fa05d1",
   "metadata": {},
   "source": [
    "### Testing the Model\n",
    "\n"
   ]
  },
  {
   "cell_type": "markdown",
   "id": "96bb45c1-1861-4ba2-a593-1e3915f7d3b2",
   "metadata": {},
   "source": [
    "Time to add the missing data and see if our model still works.\n",
    "\n"
   ]
  },
  {
   "cell_type": "code",
   "execution_count": 1,
   "id": "8c70d254-df48-437c-88d9-d014c59b3133",
   "metadata": {},
   "outputs": [],
   "source": [
    "missing_data = full_country_stats[(full_country_stats[gdppc_col] < min_gdp) |\n",
    "                                  (full_country_stats[gdppc_col] > max_gdp)]\n",
    "\n",
    "position_text_missing_countries = {\n",
    "    \"South Africa\": (20_000, 4.2),\n",
    "    \"Colombia\": (6_000, 8.2),\n",
    "    \"Brazil\": (18_000, 7.8),\n",
    "    \"Mexico\": (24_000, 7.4),\n",
    "    \"Chile\": (30_000, 7.0),\n",
    "    \"Norway\": (51_000, 6.2),\n",
    "    \"Switzerland\": (62_000, 5.7),\n",
    "    \"Ireland\": (81_000, 5.2),\n",
    "    \"Luxembourg\": (92_000, 4.7),\n",
    "}\n",
    "\n",
    "full_country_stats.plot(kind='scatter', figsize=(8, 3),\n",
    "                        x=gdppc_col, y=lifesat_col, grid=True)\n",
    "\n",
    "for country, pos_text in position_text_missing_countries.items():\n",
    "    pos_data_x, pos_data_y = missing_data.loc[country]\n",
    "    plt.annotate(country, xy=(pos_data_x, pos_data_y),\n",
    "                 xytext=pos_text, fontsize=12,\n",
    "                 arrowprops=dict(facecolor='black', width=0.5,\n",
    "                                 shrink=0.08, headwidth=5))\n",
    "    plt.plot(pos_data_x, pos_data_y, \"s\")\n",
    "\n",
    "X = np.linspace(0, 115_000, 1000)\n",
    "plt.plot(X, t0 + t1 * X, \":\")\n",
    "\n",
    "lin_reg_full = linear_model.LinearRegression()\n",
    "Xfull = np.c_[full_country_stats[gdppc_col]]\n",
    "yfull = np.c_[full_country_stats[lifesat_col]]\n",
    "lin_reg_full.fit(Xfull, yfull)\n",
    "\n",
    "t0full, t1full = lin_reg_full.intercept_[0], lin_reg_full.coef_[0][0]\n",
    "X = np.linspace(0, 115_000, 1000)\n",
    "plt.plot(X, t0full + t1full * X)\n",
    "\n",
    "plt.axis([0, 115_000, min_life_sat, max_life_sat])\n",
    "plt.show()"
   ]
  },
  {
   "cell_type": "markdown",
   "id": "d5ec8783-45a6-4039-8a1d-ace1415e52f0",
   "metadata": {},
   "source": [
    "It seems our model was a bit narrow and is not able to understand the new\n",
    "data.\n",
    "\n"
   ]
  },
  {
   "cell_type": "markdown",
   "id": "cb40e6e5-e076-4b0d-a0ca-afb91dbdc403",
   "metadata": {},
   "source": [
    "### Over-Fitting Data\n",
    "\n"
   ]
  },
  {
   "cell_type": "markdown",
   "id": "146fb147-153c-4ed4-a4d0-67cbb10d7ba4",
   "metadata": {},
   "source": [
    "Below is an over-fitted data which cannot be used to a product.\n",
    "\n"
   ]
  },
  {
   "cell_type": "code",
   "execution_count": 1,
   "id": "15580a08-a860-4a07-8f1a-b5ed8cd49a2d",
   "metadata": {},
   "outputs": [],
   "source": [
    "from sklearn import preprocessing\n",
    "from sklearn import pipeline\n",
    "\n",
    "full_country_stats.plot(kind='scatter',\n",
    "                        figsize=(8, 3),\n",
    "                        x=gdppc_col,\n",
    "                        y=lifesat_col,\n",
    "                        grid=True)\n",
    "\n",
    "poly = preprocessing.PolynomialFeatures(degree=10, include_bias=False)\n",
    "scaler = preprocessing.StandardScaler()\n",
    "lin_reg2 = linear_model.LinearRegression()\n",
    "\n",
    "pipeline_reg = pipeline.Pipeline([\n",
    "    ('poly', poly),\n",
    "    ('scal', scaler),\n",
    "    ('lin', lin_reg2)])\n",
    "pipeline_reg.fit(Xfull, yfull)\n",
    "curve = pipeline_reg.predict(X[:, np.newaxis])\n",
    "\n",
    "plt.plot(X, curve)\n",
    "plt.axis([0, 115_000, min_life_sat, max_life_sat])\n",
    "\n",
    "plt.show()"
   ]
  },
  {
   "cell_type": "markdown",
   "id": "d358a3f2-5991-48f6-93c2-8c821b4890ac",
   "metadata": {},
   "source": [
    "### Controlling the Parameters\n",
    "\n"
   ]
  },
  {
   "cell_type": "markdown",
   "id": "2e85af93-4634-4459-a6d3-f68b761bcc8b",
   "metadata": {},
   "source": [
    "Final example is to showcase how regularised data works on predicting model.\n",
    "\n"
   ]
  },
  {
   "cell_type": "code",
   "execution_count": 1,
   "id": "771cd2d9-7f1e-4c42-a3c5-dc5e1b728f73",
   "metadata": {},
   "outputs": [],
   "source": [
    "w_countries = [c for c in full_country_stats.index if \"W\" in c.upper()]\n",
    "all_w_countries = [c for c in gdp_per_capita.index if \"W\" in c.upper()]\n",
    "\n",
    "country_stats.plot(kind='scatter', x=gdppc_col, y=lifesat_col, figsize=(8, 3))\n",
    "missing_data.plot(kind='scatter', x=gdppc_col, y=lifesat_col,\n",
    "                  marker=\"s\", grid=True, ax=plt.gca())\n",
    "\n",
    "X = np.linspace(0, 115_000, 1000)\n",
    "plt.plot(X, t0 + t1*X, \":\", label=\"Linear model on partial data\")\n",
    "plt.plot(X, t0full + t1full * X, \"-\", label=\"Linear model on all data\")\n",
    "\n",
    "ridge = linear_model.Ridge(alpha=10**9.5)\n",
    "X_sample = country_stats[[gdppc_col]]\n",
    "y_sample = country_stats[[lifesat_col]]\n",
    "ridge.fit(X_sample, y_sample)\n",
    "t0ridge, t1ridge = ridge.intercept_[0], ridge.coef_[0][0]\n",
    "plt.plot(X, t0ridge + t1ridge * X, \"--\",\n",
    "         label=\"Regularized linear model on partial data\")\n",
    "plt.legend(loc=\"lower right\")\n",
    "\n",
    "plt.axis([0, 115_000, min_life_sat, max_life_sat])\n",
    "plt.show()"
   ]
  }
 ],
 "metadata": {
  "kernelspec": {
   "display_name": "Python 3 (ipykernel)",
   "language": "python",
   "name": "python3"
  },
  "language_info": {
   "codemirror_mode": {
    "name": "ipython",
    "version": 3
   },
   "file_extension": ".py",
   "mimetype": "text/x-python",
   "name": "python",
   "nbconvert_exporter": "python",
   "pygments_lexer": "ipython3",
   "version": "3.9.13"
  },
  "org": null
 },
 "nbformat": 4,
 "nbformat_minor": 5
}
